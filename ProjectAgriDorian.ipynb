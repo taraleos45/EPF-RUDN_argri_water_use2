{
 "cells": [
  {
   "cell_type": "code",
   "execution_count": 1,
   "metadata": {},
   "outputs": [],
   "source": [
    "import arcpy\n",
    "import pyowm\n",
    "import csv"
   ]
  },
  {
   "cell_type": "code",
   "execution_count": 26,
   "metadata": {},
   "outputs": [],
   "source": [
    "def rainupdate(fold_csv,root):\n",
    "    owm = pyowm.OWM('3ac4af53f33d1bb8a67da2676052a1a6')  # You MUST provide a valid API key\n",
    "    L=[]\n",
    "    with open(fold_csv, \"r\") as coord_base:\n",
    "        coord=csv.reader(coord_base)\n",
    "        for row in coord:\n",
    "            L.append(row)\n",
    "    A=str(L[0]).split(';') #split the string\n",
    "    i=0\n",
    "    long=[]\n",
    "    lat=[]\n",
    "    for i in range(len(L)):\n",
    "        A=str(L[i]).split(';')\n",
    "        long.append(A[0].strip('[\\'')) # remove all part that we not need\n",
    "        lat.append(A[1].strip(']\\''))\n",
    "    j=0\n",
    "    for j in range(len(long)):\n",
    "        long[j]=float(long[j]) # transform string in float\n",
    "        lat[j]=float(lat[j])\n",
    "\n",
    "    global Rain_amount\n",
    "    Rain_amount=[] # create an empty list\n",
    "\n",
    "    for cur in range(len(long)):\n",
    "        loc=owm.weather_at_coords(lat[cur],long[cur]) # get the weather conditions\n",
    "\n",
    "\n",
    "        w=loc.get_weather()\n",
    "        rain=w.get_rain()\n",
    "        if rain=={}: #if there is no rain it return {} but it's meen 0\n",
    "            rainstr=0\n",
    "        else:\n",
    "            rainstr=float(str(rain)[6:-1]) #rain it's a str and we transform into a float\n",
    "        Rain_amount.append(rainstr) # add to final list with all rain amount\n",
    "    print(Rain_amount)\n",
    "    sites_layer = arcpy.env.workspace + \"/fishnet_w_coords\"\n",
    "    layerfields=[\"*\"]\n",
    "    arcpy.AddField_management(\"fishnet_w_coords\",\"Add\",\"FLOAT\") # add an \"Add\" field to save the more recent data\n",
    "    print(\"field created\")\n",
    "    fields=[\"*\"]\n",
    "    i=0\n",
    "    with arcpy.da.UpdateCursor(sites_layer, fields) as cursor:\n",
    "        for row in cursor:\n",
    "            row[26]=Rain_amount[i] # add the weather condition to the right coordinate\n",
    "            cursor.updateRow(row) #update to save the change\n",
    "            i=i+1\n",
    "    del cursor\n",
    "    print(\"conditions added\")\n",
    "    arcpy.DeleteField_management(\"fishnet_w_coords\", \"Rain_amount_48h\") # delete the oldest data from 48h ago\n",
    "    print(\"rain 48h deleted\")\n",
    "    i=48\n",
    "    for j in range(15):\n",
    "        h=str(i-(j*3))\n",
    "        hh=str(i-(j*3)-3)\n",
    "        arcpy.AlterField_management(\"fishnet_w_coords\",\"Rain_amount_\"+hh+\"h\",\"Rain_amount_\"+h+\"h\") #attribute the right name because of the offset (del 48h data), 45h->48h,42->45...\n",
    "    arcpy.AlterField_management(\"fishnet_w_coords\",\"Add_\",\"Rain_amount_3h\") #transform the add field with the 3h ago data with the right name\n",
    "    print(\"Field names have been changed\")\n",
    "    print(\"start creating \")\n",
    "    itt=[1,2,3,4,5,6,7,8,9,10,11,12,13,14,15,16]\n",
    "    hour=3\n",
    "    for rast in itt:\n",
    "        nameraster=root + \"/\" + \"IDW\"+str(rast)\n",
    "        if arcpy.Exists(nameraster):\n",
    "            arcpy.Delete_management(nameraster)\n",
    "            print(\"raster\",nameraster,\"deleted...\")\n",
    "        print(\"create the raster Rain_amount_\"+str(hour)+\"h\")\n",
    "        outIDW2 = arcpy.IDW_ga(\"fishnet_w_coords\", \"Rain_amount_\"+str(hour)+\"h\",\"\",nameraster) #create the IDW raster for each field\n",
    "        hour=hour+3\n",
    "    print(\"start final raster\")\n",
    "    global rastfin\n",
    "    rastfin=0\n",
    "    n=1/16\n",
    "    for j in itt:\n",
    "        rastfin=rastfin+(1+n-j*n)*arcpy.Raster(root + \"/\" + \"IDW\"+str(j)) #calcul the final raster with coefficient to add inportance to the recent data\n",
    "    rastfin_name=root+\"/\"+\"testrast\"\n",
    "    print(rastfin_name)\n",
    "    if arcpy.Exists(rastfin_name):\n",
    "        arcpy.Delete_management(rastfin_name)\n",
    "    rastfin.save(rastfin_name)\n",
    "    print(\"raster printing\")\n",
    "    print(\"end of the code\")\n",
    "    \n",
    "    "
   ]
  },
  {
   "cell_type": "code",
   "execution_count": 30,
   "metadata": {},
   "outputs": [],
   "source": [
    "def finalanswer(lat,long,city):\n",
    "    owm = pyowm.OWM('3ac4af53f33d1bb8a67da2676052a1a6')\n",
    "    name=lat+\" \"+long\n",
    "    result_loc = arcpy.GetCellValue_management(rastfin, name) #get the pixel value of the localisation over the raster\n",
    "    value=result_loc.getOutput(0)\n",
    "    Valuechg=value.replace(\",\",\".\") #adapt the wrinting of the number\n",
    "    Valuefloat=float(Valuechg) #transform to float\n",
    "    fc = owm.three_hours_forecast(city)\n",
    "    result_rain=fc.will_have_rain() #True there is Rain forcasted, false no rain\n",
    "    if result_rain==True: #diff case\n",
    "        if Valuefloat>1.0:\n",
    "            print(\"The weather will be rainy at \",city,\" and the soil is humide:\",Valuefloat,\"mm, not need to add water\")\n",
    "        else:\n",
    "            print(\"The weather will be rainy at \",city,\" and the soil is dry:\",Valuefloat,\"mm, keep an eye on futur whether\")\n",
    "    else:\n",
    "        if Valuefloat>1.0:\n",
    "            print(\"The weather doesn't anounce rain at \",city,\" but the soil is humide:\",Valuefloat,\"mm, so don't need to add water\")\n",
    "        else:\n",
    "            print(\"The weather doesn't anounce rain at \",city,\" and the soil is dry:\",Valuefloat,\"mm, you may add water to your plant\")"
   ]
  },
  {
   "cell_type": "code",
   "execution_count": 37,
   "metadata": {},
   "outputs": [
    {
     "name": "stdout",
     "output_type": "stream",
     "text": [
      "start executing code...\n"
     ]
    }
   ],
   "source": [
    "# générate weather conditions (run the cell after add your own folder)\n",
    "folder_csv=\"C:\\EsriTraining\\RUDN2\\Coord_project.csv\" # with \\\n",
    "root_gdb = \"C:/EsriTraining/RUDN2/dorianpro.gdb\" # with / and keep dorianpro.gdb, do not create a new because there is the fishnet_w_coords file\n",
    "arcpy.env.workspace = root_gdb # \n",
    "drap=arcpy.Exists(arcpy.env.workspace)\n",
    "if drap==True:\n",
    "    print(\"start executing code...\")\n",
    "    #rainupdate(folder_csv,root_gdb)\n",
    "else:\n",
    "    print(\"The workspace doesn't exist, check the root\")\n",
    "    \n",
    "    "
   ]
  },
  {
   "cell_type": "code",
   "execution_count": 31,
   "metadata": {},
   "outputs": [
    {
     "name": "stdout",
     "output_type": "stream",
     "text": [
      "The weather will be rainy at  Olivet,FR  and the soil is dry: 0.42467919 mm, keep an eye on futur whether\n"
     ]
    }
   ],
   "source": [
    "finalanswer(\"1,9\",\"47,86\",\"Olivet,FR\")"
   ]
  },
  {
   "cell_type": "code",
   "execution_count": 38,
   "metadata": {},
   "outputs": [
    {
     "data": {
      "text/plain": [
       "True"
      ]
     },
     "execution_count": 38,
     "metadata": {},
     "output_type": "execute_result"
    }
   ],
   "source": [
    "# test if the gdb has the file fishnet to add weather condition if it's false, try to check the root\n",
    "sites_layer=arcpy.env.workspace + \"/fishnet_w_coords\"\n",
    "arcpy.Exists(sites_layer)"
   ]
  }
 ],
 "metadata": {
  "kernelspec": {
   "display_name": "Python 3",
   "language": "python",
   "name": "python3"
  },
  "language_info": {
   "codemirror_mode": {
    "name": "ipython",
    "version": 3
   },
   "file_extension": ".py",
   "mimetype": "text/x-python",
   "name": "python",
   "nbconvert_exporter": "python",
   "pygments_lexer": "ipython3",
   "version": "3.6.9"
  }
 },
 "nbformat": 4,
 "nbformat_minor": 2
}
